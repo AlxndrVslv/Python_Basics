{
 "cells": [
  {
   "attachments": {},
   "cell_type": "markdown",
   "metadata": {},
   "source": [
    "## Задание 1"
   ]
  },
  {
   "cell_type": "code",
   "execution_count": 5,
   "metadata": {},
   "outputs": [],
   "source": [
    "import requests"
   ]
  },
  {
   "cell_type": "code",
   "execution_count": 6,
   "metadata": {},
   "outputs": [
    {
     "name": "stdout",
     "output_type": "stream",
     "text": [
      "СДР (специальные права заимствования)\n"
     ]
    }
   ],
   "source": [
    "rates = requests.get('https://www.cbr-xml-daily.ru/daily_json.js').json()\n",
    "\n",
    "max = 0\n",
    "max_rate = ''\n",
    "for rate in rates['Valute'].items():\n",
    "    #print(rate[1]['Name'], rate[1]['Value'])\n",
    "    if rate[1]['Value'] > max:\n",
    "        max = rate[1]['Value']\n",
    "        max_rate = rate[1]['Name']\n",
    "print(max_rate)"
   ]
  },
  {
   "attachments": {},
   "cell_type": "markdown",
   "metadata": {},
   "source": [
    "## Задание 2"
   ]
  },
  {
   "cell_type": "code",
   "execution_count": 7,
   "metadata": {},
   "outputs": [],
   "source": [
    "class Rate:\n",
    "    def __init__(self, format='value', diff = False):\n",
    "        self.format = format\n",
    "        self.diff = diff\n",
    "    \n",
    "    def exchange_rates(self):\n",
    "        \"\"\"\n",
    "        Возвращает ответ сервиса с информацией о валютах в виде:\n",
    "        \n",
    "        {\n",
    "            'AMD': {\n",
    "                'CharCode': 'AMD',\n",
    "                'ID': 'R01060',\n",
    "                'Name': 'Армянских драмов',\n",
    "                'Nominal': 100,\n",
    "                'NumCode': '051',\n",
    "                'Previous': 14.103,\n",
    "                'Value': 14.0879\n",
    "                },\n",
    "            ...\n",
    "        }\n",
    "        \"\"\"\n",
    "        r = requests.get('https://www.cbr-xml-daily.ru/daily_json.js').json()\n",
    "        return r['Valute']\n",
    "\n",
    "\n",
    "    def exchange_rates_prev(self):\n",
    "        \"\"\"\n",
    "        Возвращает ответ сервиса с информацией о валютах за предыдущий день\n",
    "        \"\"\"\n",
    "        prev_url = 'http://' + requests.get('https://www.cbr-xml-daily.ru/daily_json.js').json()['PreviousURL'].replace('//', '')\n",
    "        r =    requests.get(prev_url).json()\n",
    "        return r['Valute']\n",
    "\n",
    "    \n",
    "    def make_format(self, currency):\n",
    "        \"\"\"\n",
    "        Возвращает информацию о валюте currency в двух вариантах:\n",
    "        - полная информация о валюте при self.format = 'full':\n",
    "        Rate('full').make_format('EUR')\n",
    "        {\n",
    "            'CharCode': 'EUR',\n",
    "            'ID': 'R01239',\n",
    "            'Name': 'Евро',\n",
    "            'Nominal': 1,\n",
    "            'NumCode': '978',\n",
    "            'Previous': 79.6765,\n",
    "            'Value': 79.4966\n",
    "        }\n",
    "        \n",
    "        Rate('value').make_format('EUR')\n",
    "        79.4966\n",
    "        \"\"\"\n",
    "        response = self.exchange_rates()\n",
    "                \n",
    "        if currency in response:\n",
    "            if self.format == 'full':\n",
    "                return response[currency]\n",
    "            \n",
    "            if self.format == 'value':\n",
    "                if not self.diff:\n",
    "                    return response[currency]['Value']\n",
    "                else:\n",
    "                    return round(response[currency]['Value'] - self.exchange_rates_prev()[currency]['Value'], 4)\n",
    "        \n",
    "        return 'Error'\n",
    "    \n",
    "    def eur(self):\n",
    "        \"\"\"Возвращает курс евро на сегодня в формате self.format\"\"\"\n",
    "        return self.make_format('EUR')\n",
    "    \n",
    "    def usd(self):\n",
    "        \"\"\"Возвращает курс доллара на сегодня в формате self.format\"\"\"\n",
    "        return self.make_format('USD')\n",
    "\n",
    "    def AZN(self):\n",
    "        \"\"\"Возвращает курс азербайджанского маната на сегодня в формате self.format\"\"\"\n",
    "        return self.make_format('AZN')"
   ]
  },
  {
   "cell_type": "code",
   "execution_count": 23,
   "metadata": {},
   "outputs": [
    {
     "data": {
      "text/plain": [
       "0.603"
      ]
     },
     "execution_count": 23,
     "metadata": {},
     "output_type": "execute_result"
    }
   ],
   "source": [
    "Rate(format='value', diff = True).make_format('JPY')"
   ]
  },
  {
   "attachments": {},
   "cell_type": "markdown",
   "metadata": {},
   "source": [
    "## Задание 3"
   ]
  },
  {
   "cell_type": "code",
   "execution_count": 24,
   "metadata": {},
   "outputs": [],
   "source": [
    "class Employee:\n",
    "    def __init__(self, name, seniority):\n",
    "        self.name = name\n",
    "        self.seniority = seniority\n",
    "        \n",
    "        self.grade = 1\n",
    "    \n",
    "    def grade_up(self):\n",
    "        \"\"\"Повышает уровень сотрудника\"\"\"\n",
    "        self.grade += 1\n",
    "    \n",
    "    def publish_grade(self):\n",
    "        \"\"\"Публикация результатов аккредитации сотрудников\"\"\"\n",
    "        print(self.name, self.grade)\n",
    "    \n",
    "    def check_if_it_is_time_for_upgrade(self):\n",
    "        pass"
   ]
  },
  {
   "cell_type": "code",
   "execution_count": 66,
   "metadata": {},
   "outputs": [],
   "source": [
    "class Designer(Employee):\n",
    "    def __init__(\n",
    "        self, \n",
    "        name, \n",
    "        seniority = 4,  # Т.к. по умолчанию дизайнер имеет 2 премии, то по умолчанию у него должно быть по 2 балла за каждую премию\n",
    "        award = False   # Признак того, что была получена премия\n",
    "    ):\n",
    "        super().__init__(name, seniority)        \n",
    "        self.award = award\n",
    "    \n",
    "    def got_award(self):\n",
    "        ''' Метод добавляет 2 балла, если сотрудник получил премию '''\n",
    "        self.award = True\n",
    "    \n",
    "    def check_if_it_is_time_for_upgrade(self):\n",
    "        \n",
    "        if self.award: self.seniority += 2  # Если сотрудник получил премию, то добавляем 2 балла\n",
    "        else: self.seniority += 1\n",
    "        self.award = False  # Сбрасываем признак, чтобы не добавлять 2 балла при следующей аккредитации\n",
    "        \n",
    "        # условие повышения сотрудника из презентации\n",
    "        if self.seniority % 7 == 0:\n",
    "            self.grade_up()\n",
    "        \n",
    "        # публикация результатов\n",
    "        print(self.seniority)\n",
    "        return self.publish_grade()"
   ]
  },
  {
   "cell_type": "code",
   "execution_count": 78,
   "metadata": {},
   "outputs": [],
   "source": [
    "alex = Designer(name = 'Александр')"
   ]
  },
  {
   "cell_type": "code",
   "execution_count": 80,
   "metadata": {},
   "outputs": [
    {
     "name": "stdout",
     "output_type": "stream",
     "text": [
      "5\n",
      "Александр 1\n",
      "6\n",
      "Александр 1\n",
      "7\n",
      "Александр 2\n",
      "8\n",
      "Александр 2\n",
      "9\n",
      "Александр 2\n",
      "10\n",
      "Александр 2\n",
      "11\n",
      "Александр 2\n",
      "12\n",
      "Александр 2\n",
      "13\n",
      "Александр 2\n",
      "14\n",
      "Александр 3\n",
      "15\n",
      "Александр 3\n",
      "16\n",
      "Александр 3\n",
      "17\n",
      "Александр 3\n",
      "18\n",
      "Александр 3\n",
      "19\n",
      "Александр 3\n",
      "20\n",
      "Александр 3\n",
      "21\n",
      "Александр 4\n"
     ]
    }
   ],
   "source": [
    "for i in range(17):\n",
    "    alex.check_if_it_is_time_for_upgrade()"
   ]
  }
 ],
 "metadata": {
  "kernelspec": {
   "display_name": "base",
   "language": "python",
   "name": "python3"
  },
  "language_info": {
   "codemirror_mode": {
    "name": "ipython",
    "version": 3
   },
   "file_extension": ".py",
   "mimetype": "text/x-python",
   "name": "python",
   "nbconvert_exporter": "python",
   "pygments_lexer": "ipython3",
   "version": "3.9.13"
  },
  "orig_nbformat": 4,
  "vscode": {
   "interpreter": {
    "hash": "83dfebde03296537d4b350750fbe32515bcc168389be02bb5f3936c6a06edb7c"
   }
  }
 },
 "nbformat": 4,
 "nbformat_minor": 2
}
