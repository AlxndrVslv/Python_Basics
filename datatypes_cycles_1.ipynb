{
 "cells": [
  {
   "attachments": {},
   "cell_type": "markdown",
   "metadata": {},
   "source": [
    "## Задание 1"
   ]
  },
  {
   "cell_type": "code",
   "execution_count": 2,
   "metadata": {},
   "outputs": [
    {
     "name": "stdout",
     "output_type": "stream",
     "text": [
      "es\n"
     ]
    }
   ],
   "source": [
    "word = 'test'\n",
    "#word = 'testing'\n",
    "\n",
    "print(word[int(len(word) / 2)]) if len(word) % 2 else print(word[int(len(word) / 2 - 1): int(len(word) / 2 + 1)])"
   ]
  },
  {
   "attachments": {},
   "cell_type": "markdown",
   "metadata": {},
   "source": [
    "## Задание 2"
   ]
  },
  {
   "cell_type": "code",
   "execution_count": 50,
   "metadata": {},
   "outputs": [
    {
     "name": "stdout",
     "output_type": "stream",
     "text": [
      "Результат: 0\n"
     ]
    }
   ],
   "source": [
    "sum = 0\n",
    "num = int(input('Введите число:'))\n",
    "while num != 0:\n",
    "    sum += num\n",
    "    num = int(input('Введите число:'))\n",
    "print(f'Результат: {sum}')"
   ]
  },
  {
   "attachments": {},
   "cell_type": "markdown",
   "metadata": {},
   "source": [
    "## Задание 3"
   ]
  },
  {
   "cell_type": "code",
   "execution_count": 58,
   "metadata": {},
   "outputs": [
    {
     "name": "stdout",
     "output_type": "stream",
     "text": [
      "Внимание, кто-то может остаться без пары!\n"
     ]
    }
   ],
   "source": [
    "#boys = ['Peter', 'Alex', 'John', 'Arthur', 'Richard']\n",
    "#girls = ['Kate', 'Liza', 'Kira', 'Emma', 'Trisha']\n",
    "\n",
    "boys = ['Peter', 'Alex', 'John', 'Arthur', 'Richard', 'Michael']\n",
    "girls = ['Kate', 'Liza', 'Kira', 'Emma', 'Trisha']\n",
    "\n",
    "if len(boys) != len(girls): \n",
    "    print('Внимание, кто-то может остаться без пары!')\n",
    "else:\n",
    "    boys_sorted = sorted(boys)\n",
    "    girls_sorted = sorted(girls)\n",
    "    print('Идеальные пары:')\n",
    "    for i in range(len(boys)):\n",
    "        print(boys_sorted[i], ' и ', girls_sorted[i])"
   ]
  },
  {
   "attachments": {},
   "cell_type": "markdown",
   "metadata": {},
   "source": [
    "## Задание 4"
   ]
  },
  {
   "cell_type": "code",
   "execution_count": 93,
   "metadata": {},
   "outputs": [
    {
     "name": "stdout",
     "output_type": "stream",
     "text": [
      "Средняя температура в странах:\n",
      "Таиланд -  23.9\n",
      "Германия -  13.8\n",
      "Россия -  3.7\n",
      "Польша -  12.0\n"
     ]
    }
   ],
   "source": [
    "countries_temperature = [\n",
    "    ['Таиланд', [75.2, 77, 78.8, 73.4, 68, 75.2, 77]],\n",
    "    ['Германия', [57.2, 55.4, 59, 59, 53.6]],\n",
    "    ['Россия', [35.6, 37.4, 39.2, 41, 42.8, 39.2, 35.6]],\n",
    "    ['Польша', [50, 50, 53.6, 57.2, 55.4, 55.4]]\n",
    "]\n",
    "\n",
    "print('Средняя температура в странах:')\n",
    "\n",
    "for country_temperature in countries_temperature:\n",
    "    sum_c = 0\n",
    "    for temp_f in country_temperature[1]:\n",
    "        sum_c += 5/9 * (temp_f - 32)\n",
    "    print(f'{country_temperature[0]} - {sum_c / len(country_temperature[1]): .1f}')\n",
    "        "
   ]
  },
  {
   "attachments": {},
   "cell_type": "markdown",
   "metadata": {},
   "source": [
    "## Задание 5"
   ]
  },
  {
   "cell_type": "code",
   "execution_count": 64,
   "metadata": {},
   "outputs": [
    {
     "name": "stdout",
     "output_type": "stream",
     "text": [
      "Номер А222ВС валиден. Регион 96\n",
      "Номер АБ22ВВ193 не валиден\n"
     ]
    },
    {
     "data": {
      "text/plain": [
       "[None, None]"
      ]
     },
     "execution_count": 64,
     "metadata": {},
     "output_type": "execute_result"
    }
   ],
   "source": [
    "from re import match\n",
    "\n",
    "car_ids = ['А222ВС96', 'АБ22ВВ193']\n",
    "\n",
    "[\n",
    "    print(f'Номер {car_id[:6]} валиден. Регион {car_id[6:]}') \n",
    "    if re.match(r'(а|в|е|к|м|н|о|р|с|т|у|х){1}\\d{3}(а|в|е|к|м|н|о|р|с|т|у|х){2}\\d{2,3}', car_id, re.IGNORECASE) \n",
    "    else print(f'Номер {car_id} не валиден') \n",
    "    for car_id in car_ids\n",
    "]"
   ]
  },
  {
   "cell_type": "code",
   "execution_count": 63,
   "metadata": {},
   "outputs": [
    {
     "name": "stdout",
     "output_type": "stream",
     "text": [
      "Номер А222ВС валиден. Регион 96\n",
      "Номер АБ22ВВ193 не валиден\n"
     ]
    }
   ],
   "source": [
    "for car_id in car_ids:\n",
    "    if re.match(r'(а|в|е|к|м|н|о|р|с|т|у|х){1}\\d{3}(а|в|е|к|м|н|о|р|с|т|у|х){2}\\d{2,3}', car_id, re.IGNORECASE):\n",
    "        print(f'Номер {car_id[:6]} валиден. Регион {car_id[6:]}')\n",
    "    else:\n",
    "        print(f'Номер {car_id} не валиден') "
   ]
  },
  {
   "attachments": {},
   "cell_type": "markdown",
   "metadata": {},
   "source": [
    "## Задание 6"
   ]
  },
  {
   "cell_type": "code",
   "execution_count": 27,
   "metadata": {},
   "outputs": [
    {
     "name": "stdout",
     "output_type": "stream",
     "text": [
      "Среднее количество просмотров на уникального пользователя:  23.25\n"
     ]
    }
   ],
   "source": [
    "from re import split\n",
    "\n",
    "stream = [\n",
    "    'user4,2021-01-01;3',\n",
    "    'user3,2022-01-07;4',\n",
    "    'user2,2022-03-29;1',\n",
    "    'user1,2020-04-04;13',\n",
    "    'user2,2022-01-05;7',\n",
    "    'user1,2021-06-14;4',\n",
    "    'user3,2022-07-02;10',\n",
    "    'user4,2021-03-21;19',\n",
    "    'user4,2022-03-22;4',\n",
    "    'user4,2022-04-22;8',\n",
    "    'user4,2021-05-03;9',\n",
    "    'user4,2022-05-11;11'\n",
    "]\n",
    "\n",
    "views = 0\n",
    "users = []\n",
    "\n",
    "for user in stream:\n",
    "    obj = re.split(r'[,|;]', user)\n",
    "    users.append(obj[0])\n",
    "    views += int(obj[2])\n",
    "\n",
    "users = len(set(users))\n",
    "\n",
    "print(f'Среднее количество просмотров на уникального пользователя: {views/users if users != 0 else 0: .2f}')"
   ]
  }
 ],
 "metadata": {
  "kernelspec": {
   "display_name": "base",
   "language": "python",
   "name": "python3"
  },
  "language_info": {
   "codemirror_mode": {
    "name": "ipython",
    "version": 3
   },
   "file_extension": ".py",
   "mimetype": "text/x-python",
   "name": "python",
   "nbconvert_exporter": "python",
   "pygments_lexer": "ipython3",
   "version": "3.9.13"
  },
  "orig_nbformat": 4,
  "vscode": {
   "interpreter": {
    "hash": "83dfebde03296537d4b350750fbe32515bcc168389be02bb5f3936c6a06edb7c"
   }
  }
 },
 "nbformat": 4,
 "nbformat_minor": 2
}
