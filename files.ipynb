{
 "cells": [
  {
   "attachments": {},
   "cell_type": "markdown",
   "metadata": {},
   "source": [
    "## Задание 1"
   ]
  },
  {
   "cell_type": "code",
   "execution_count": 7,
   "metadata": {},
   "outputs": [
    {
     "name": "stdout",
     "output_type": "stream",
     "text": [
      "{'1840e0b9d4': 'Продукты', '4e4f90fcfb': 'Электроника', 'afea8d72fc': 'Электроника', '373a6055fe': 'Бытовая техника', '9b2ab046f3': 'Электроника', '9f39d307c3': 'Электроника', '44edeffc91': 'Продукты', '704474fa2d': 'Продукты', '1de31be403': 'Бытовая техника'}\n"
     ]
    }
   ],
   "source": [
    "import json\n",
    "\n",
    "with open('purchase_log.txt', 'r') as f:\n",
    "    purchase = f.readlines()\n",
    "\n",
    "purchase = purchase[1:] # Избавимся от заголовка\n",
    "line_dict = {}\n",
    "purchases = {}\n",
    "\n",
    "for line in purchase:\n",
    "    line_dict = json.loads(line)    \n",
    "    purchases[line_dict['user_id']] = line_dict['category']"
   ]
  },
  {
   "attachments": {},
   "cell_type": "markdown",
   "metadata": {},
   "source": [
    "## Задание 2"
   ]
  },
  {
   "cell_type": "code",
   "execution_count": 46,
   "metadata": {},
   "outputs": [],
   "source": [
    "with open('visit_log.csv', 'r') as f_visit:\n",
    "    with open('funnel.csv', 'w', encoding = 'cp1251') as f_funnel:\n",
    "        f_funnel.write('user_id, source, category \\n')\n",
    "        for visit in f_visit:                        \n",
    "            if visit.split(',')[0] in purchases.keys():\n",
    "                str = visit.strip('\\n') + ',' + purchases[visit.split(',')[0]] + '\\n'                \n",
    "                f_funnel.write(str)"
   ]
  }
 ],
 "metadata": {
  "kernelspec": {
   "display_name": "base",
   "language": "python",
   "name": "python3"
  },
  "language_info": {
   "codemirror_mode": {
    "name": "ipython",
    "version": 3
   },
   "file_extension": ".py",
   "mimetype": "text/x-python",
   "name": "python",
   "nbconvert_exporter": "python",
   "pygments_lexer": "ipython3",
   "version": "3.9.13"
  },
  "orig_nbformat": 4,
  "vscode": {
   "interpreter": {
    "hash": "83dfebde03296537d4b350750fbe32515bcc168389be02bb5f3936c6a06edb7c"
   }
  }
 },
 "nbformat": 4,
 "nbformat_minor": 2
}
