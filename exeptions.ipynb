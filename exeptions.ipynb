{
 "cells": [
  {
   "attachments": {},
   "cell_type": "markdown",
   "metadata": {},
   "source": [
    "## Задание 1"
   ]
  },
  {
   "cell_type": "code",
   "execution_count": 3,
   "metadata": {},
   "outputs": [],
   "source": [
    "tmt = 'Wednesday, October 2, 2002'\n",
    "tg = 'Friday, 11.10.13'\n",
    "dn = 'Thursday, 18 August 1977'"
   ]
  },
  {
   "cell_type": "code",
   "execution_count": 3,
   "metadata": {},
   "outputs": [],
   "source": [
    "from datetime import datetime"
   ]
  },
  {
   "cell_type": "code",
   "execution_count": 15,
   "metadata": {},
   "outputs": [
    {
     "name": "stdout",
     "output_type": "stream",
     "text": [
      "2002-10-02 00:00:00\n",
      "2013-11-10 00:00:00\n",
      "1977-08-18 00:00:00\n"
     ]
    }
   ],
   "source": [
    "tmt_date = datetime.strptime(tmt, '%A, %B %d, %Y')\n",
    "tg_date = datetime.strptime(tg, '%A, %m.%d.%y')\n",
    "dn_date = datetime.strptime(dn, '%A, %d %B %Y')\n",
    "print(tmt_date, tg_date, dn_date, sep = '\\n')"
   ]
  },
  {
   "attachments": {},
   "cell_type": "markdown",
   "metadata": {},
   "source": [
    "## Задание 2"
   ]
  },
  {
   "cell_type": "code",
   "execution_count": 17,
   "metadata": {},
   "outputs": [],
   "source": [
    "stream = ['2018-04-02', '2018-02-29', '2018-19-02']"
   ]
  },
  {
   "cell_type": "code",
   "execution_count": 28,
   "metadata": {},
   "outputs": [
    {
     "name": "stdout",
     "output_type": "stream",
     "text": [
      "True\n",
      "False\n",
      "False\n"
     ]
    }
   ],
   "source": [
    "def dt_corr(date_str):\n",
    "    try:\n",
    "        datetime.strptime(date_str, '%Y-%m-%d')\n",
    "        return True\n",
    "    except:\n",
    "        return False\n",
    "\n",
    "for elem in  stream:\n",
    "    print(dt_corr(elem))"
   ]
  },
  {
   "attachments": {},
   "cell_type": "markdown",
   "metadata": {},
   "source": [
    "## Задание 3"
   ]
  },
  {
   "cell_type": "code",
   "execution_count": 1,
   "metadata": {},
   "outputs": [],
   "source": [
    "from datetime import timedelta"
   ]
  },
  {
   "cell_type": "code",
   "execution_count": 4,
   "metadata": {},
   "outputs": [
    {
     "name": "stdout",
     "output_type": "stream",
     "text": [
      "[datetime.datetime(2023, 1, 1, 0, 0), datetime.datetime(2023, 1, 2, 0, 0), datetime.datetime(2023, 1, 3, 0, 0), datetime.datetime(2023, 1, 4, 0, 0), datetime.datetime(2023, 1, 5, 0, 0), datetime.datetime(2023, 1, 6, 0, 0), datetime.datetime(2023, 1, 7, 0, 0), datetime.datetime(2023, 1, 8, 0, 0), datetime.datetime(2023, 1, 9, 0, 0), datetime.datetime(2023, 1, 10, 0, 0)]\n"
     ]
    }
   ],
   "source": [
    "start_date = '2023-01-01'\n",
    "end_date = '2023-01-10'\n",
    "\n",
    "def dates_list(start_date, end_date):    \n",
    "\n",
    "    try:\n",
    "        start_date = datetime.strptime(start_date, '%Y-%m-%d')\n",
    "        end_date = datetime.strptime(end_date, '%Y-%m-%d')\n",
    "\n",
    "        dates = []\n",
    "        i = 0\n",
    "        \n",
    "        while True:\n",
    "            day = start_date + timedelta(days = i)\n",
    "            if day > end_date: break\n",
    "            dates.append(day)\n",
    "            i += 1\n",
    "        \n",
    "        return dates\n",
    "    \n",
    "    except ValueError:\n",
    "        return []\n",
    "    \n",
    "\n",
    "print(dates_list(start_date, end_date))    "
   ]
  },
  {
   "cell_type": "code",
   "execution_count": 8,
   "metadata": {},
   "outputs": [
    {
     "name": "stdout",
     "output_type": "stream",
     "text": [
      "[]\n"
     ]
    }
   ],
   "source": [
    "start_date = '2023-01-41'\n",
    "end_date = '2023-01-10'\n",
    "\n",
    "def dates_list(start_date, end_date):    \n",
    "\n",
    "    try:\n",
    "        start_date = datetime.strptime(start_date, '%Y-%m-%d')\n",
    "        end_date = datetime.strptime(end_date, '%Y-%m-%d')\n",
    "    except:\n",
    "        return []\n",
    "\n",
    "    dates = []\n",
    "    i = 0\n",
    "        \n",
    "    while True:\n",
    "        day = start_date + timedelta(days = i)\n",
    "        if day > end_date: break\n",
    "        dates.append(day)\n",
    "        i += 1\n",
    "    \n",
    "    return dates\n",
    "        \n",
    "print(dates_list(start_date, end_date))    "
   ]
  },
  {
   "attachments": {},
   "cell_type": "markdown",
   "metadata": {},
   "source": [
    "## Задание 4"
   ]
  },
  {
   "attachments": {},
   "cell_type": "markdown",
   "metadata": {},
   "source": [
    "Возможно как-то не так скопировал, но ошибка \"List index out of range\" не воспроизводится при любом кол-ве запусков.<br>\n",
    "Не воспроизводится, потому что при запуске функции задано деволтное значение списка и из списка из 3-х элементов просто удаляется последний.<br>\n",
    "При запуске функции с параметром \"1\" эта цифра вообще никак не обрабатывается.<br>\n",
    "\n",
    "Ошибка \"List index out of range\" возникает тогда, когда мы по каким-то причинам выходим за границы списка.<br>\n",
    "Например, когда в цикле идем по списку и одновременно меняем его."
   ]
  },
  {
   "cell_type": "code",
   "execution_count": 62,
   "metadata": {},
   "outputs": [
    {
     "data": {
      "text/plain": [
       "'A101'"
      ]
     },
     "execution_count": 62,
     "metadata": {},
     "output_type": "execute_result"
    }
   ],
   "source": [
    "DEFAULT_USER_COUNT = 3\n",
    "\n",
    "def delete_and_return_last_user(region, default_list=['A100', 'A101', 'A102']):\n",
    "    '''\n",
    "    Удаляет из списка default_list последнего пользователя\n",
    "    и возвращает ID нового последнего пользователя.\n",
    "    '''\n",
    "    element_to_delete = default_list[-1]\n",
    "    default_list.remove(element_to_delete)\n",
    "\n",
    "    return default_list[DEFAULT_USER_COUNT-2]\n",
    "\n",
    "delete_and_return_last_user(1)"
   ]
  }
 ],
 "metadata": {
  "kernelspec": {
   "display_name": "base",
   "language": "python",
   "name": "python3"
  },
  "language_info": {
   "codemirror_mode": {
    "name": "ipython",
    "version": 3
   },
   "file_extension": ".py",
   "mimetype": "text/x-python",
   "name": "python",
   "nbconvert_exporter": "python",
   "pygments_lexer": "ipython3",
   "version": "3.9.13"
  },
  "orig_nbformat": 4,
  "vscode": {
   "interpreter": {
    "hash": "83dfebde03296537d4b350750fbe32515bcc168389be02bb5f3936c6a06edb7c"
   }
  }
 },
 "nbformat": 4,
 "nbformat_minor": 2
}
