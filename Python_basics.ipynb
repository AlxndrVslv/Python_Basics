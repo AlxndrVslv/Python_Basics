{
 "cells": [
  {
   "attachments": {},
   "cell_type": "markdown",
   "metadata": {},
   "source": [
    "## Задание 1"
   ]
  },
  {
   "cell_type": "code",
   "execution_count": 1,
   "metadata": {},
   "outputs": [
    {
     "name": "stdout",
     "output_type": "stream",
     "text": [
      "Фраза 1 длиннее фразы 2\n"
     ]
    }
   ],
   "source": [
    "phrase_1 = 'Насколько проще было бы писать программы, если бы не заказчики'\n",
    "phrase_2 = '640Кб должно хватить для любых задач. Билл Гейтс (по легенде)'\n",
    "\n",
    "if len(phrase_1) > len(phrase_2):\n",
    "    print('Фраза 1 длиннее фразы 2')\n",
    "elif len(phrase_1) < len(phrase_2):\n",
    "    print('Фраза 2 длиннее фразы 1')\n",
    "else:\n",
    "    print('Фразы равной длины')"
   ]
  },
  {
   "attachments": {},
   "cell_type": "markdown",
   "metadata": {},
   "source": [
    "## Задание 2"
   ]
  },
  {
   "cell_type": "code",
   "execution_count": 2,
   "metadata": {},
   "outputs": [
    {
     "name": "stdout",
     "output_type": "stream",
     "text": [
      "Високосный год\n"
     ]
    }
   ],
   "source": [
    "year = 2020\n",
    "\n",
    "if (year % 4 == 0) and (year % 100 != 0 or (year % 100 == 0 and year % 400 == 0)):\n",
    "    print('Високосный год')\n",
    "else:\n",
    "    print('Обычный год')    "
   ]
  },
  {
   "attachments": {},
   "cell_type": "markdown",
   "metadata": {},
   "source": [
    "## Задание 3"
   ]
  },
  {
   "cell_type": "code",
   "execution_count": 6,
   "metadata": {},
   "outputs": [
    {
     "name": "stdout",
     "output_type": "stream",
     "text": [
      "Ваш знак зодиака:  Лев\n"
     ]
    }
   ],
   "source": [
    "day = int(input('Введите день:'))\n",
    "month = int(input('Введите месяц:'))\n",
    "\n",
    "day_month = month*100 + day # Сформируем комплексное число для дня и месяца (ММДД или МДД, где ММ, М - номер месяца, ДД - номер дня в месяце)\n",
    "\n",
    "if   day_month < 101  or  day_month > 1231  or  \\\n",
    "    (day_month > 131  and day_month < 201)  or  \\\n",
    "    (day_month > 229  and day_month < 301)  or  \\\n",
    "    (day_month > 331  and day_month < 401)  or  \\\n",
    "    (day_month > 430  and day_month < 501)  or  \\\n",
    "    (day_month > 531  and day_month < 601)  or  \\\n",
    "    (day_month > 630  and day_month < 701)  or  \\\n",
    "    (day_month > 731  and day_month < 801)  or  \\\n",
    "    (day_month > 831  and day_month < 901)  or  \\\n",
    "    (day_month > 930  and day_month < 1001) or  \\\n",
    "    (day_month > 1031 and day_month < 1101) or  \\\n",
    "    (day_month > 1130 and day_month < 1201):\n",
    "    print('Нет такой даты')\n",
    "else:\n",
    "    if day_month >= 120 and day_month <= 218: mes = 'Водолей'\n",
    "    elif day_month >= 219 and day_month <= 320: mes = 'Рыбы'\n",
    "    elif day_month >= 321 and day_month <= 419: mes = 'Овен'\n",
    "    elif day_month >= 420 and day_month <= 520: mes = 'Телец'\n",
    "    elif day_month >= 521 and day_month <= 620: mes = 'Близнецы'\n",
    "    elif day_month >= 621 and day_month <= 722: mes = 'Рак'\n",
    "    elif day_month >= 723 and day_month <= 822: mes = 'Лев'\n",
    "    elif day_month >= 823 and day_month <= 922: mes = 'Дева'\n",
    "    elif day_month >= 923 and day_month <= 1022: mes = 'Весы'\n",
    "    elif day_month >= 1023 and day_month <= 1121: mes = 'Скорпион'\n",
    "    elif day_month >= 1122 and day_month <= 1221: mes = 'Стрелец'\n",
    "    else: mes = 'Козерог'\n",
    "    print('Ваш знак зодиака: ', mes)"
   ]
  },
  {
   "attachments": {},
   "cell_type": "markdown",
   "metadata": {},
   "source": [
    "## Задание 4"
   ]
  },
  {
   "cell_type": "code",
   "execution_count": 17,
   "metadata": {},
   "outputs": [
    {
     "name": "stdout",
     "output_type": "stream",
     "text": [
      "Коробка №3\n"
     ]
    }
   ],
   "source": [
    "width = 15\n",
    "length = 55\n",
    "height = 15\n",
    "\n",
    "if (width <= 15) and (length <= 15) and (height <= 15): print('Коробка №1')\n",
    "elif (width > 200) or (length > 200) or (height > 200): print('Упаковка для лыж')\n",
    "elif (15 < width < 50) or (15 < length < 50) or (15 < height < 50): print('Коробка №2')\n",
    "else: print('Коробка №3')"
   ]
  },
  {
   "attachments": {},
   "cell_type": "markdown",
   "metadata": {},
   "source": [
    "## Задание 5"
   ]
  },
  {
   "cell_type": "code",
   "execution_count": 39,
   "metadata": {},
   "outputs": [
    {
     "name": "stdout",
     "output_type": "stream",
     "text": [
      "Счастливый билет\n"
     ]
    }
   ],
   "source": [
    "number = 123321\n",
    "\n",
    "n1 = int(number / 10**5)\n",
    "n2 = int(number / 10**4) % 10\n",
    "n3 = int(number / 10**3) % 10\n",
    "n4 = int(number / 10**2) % 10\n",
    "n5 = int(number / 10) % 10\n",
    "n6 = int(number) % 10\n",
    "\n",
    "if (n1 + n2 + n3 == n4 + n5 + n6): print('Счастливый билет')\n",
    "else: print('Не счастливый билет')"
   ]
  },
  {
   "attachments": {},
   "cell_type": "markdown",
   "metadata": {},
   "source": [
    "## Задание 6"
   ]
  },
  {
   "cell_type": "code",
   "execution_count": 60,
   "metadata": {},
   "outputs": [
    {
     "name": "stdout",
     "output_type": "stream",
     "text": [
      "Площадь прямогугольника:  500.00\n"
     ]
    }
   ],
   "source": [
    "fig_type = input('Введите тип фигуры')\n",
    "pi = 3.1415926535\n",
    "\n",
    "if fig_type.lower() == 'круг':\n",
    "    r = float(input('Введите радиус круга'))\n",
    "    S = pi * r**2\n",
    "    print(f'Площадь круга: {S: .2f}')\n",
    "elif fig_type.lower() == 'треугольник':\n",
    "    a, b, c = float(input('Введите длину стороны A')), float(input('Введите длину стороны B')), float(input('Введите длину стороны C'))\n",
    "    p = (a + b + c) / 2\n",
    "    S = (p * (p - a) * (p - b) * (p - c))**0.5\n",
    "    print(f'Площадь треугольника: {S: .2f}')\n",
    "elif fig_type.lower() == 'прямоугольник':\n",
    "    a, b = float(input('Введите длину стороны A')), float(input('Введите длину стороны B'))\n",
    "    S = a * b\n",
    "    print(f'Площадь прямогугольника: {S: .2f}')\n",
    "else: print('Тип фигуры не опознан')"
   ]
  }
 ],
 "metadata": {
  "kernelspec": {
   "display_name": "Python 3.9.13 ('base')",
   "language": "python",
   "name": "python3"
  },
  "language_info": {
   "codemirror_mode": {
    "name": "ipython",
    "version": 3
   },
   "file_extension": ".py",
   "mimetype": "text/x-python",
   "name": "python",
   "nbconvert_exporter": "python",
   "pygments_lexer": "ipython3",
   "version": "3.9.13"
  },
  "orig_nbformat": 4,
  "vscode": {
   "interpreter": {
    "hash": "83dfebde03296537d4b350750fbe32515bcc168389be02bb5f3936c6a06edb7c"
   }
  }
 },
 "nbformat": 4,
 "nbformat_minor": 2
}
